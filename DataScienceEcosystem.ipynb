{
 "cells": [
  {
   "cell_type": "markdown",
   "id": "23d55707-4860-4f26-876d-6c3241e990fd",
   "metadata": {},
   "source": [
    "# Data Science Tools and Ecosystem"
   ]
  },
  {
   "cell_type": "markdown",
   "id": "5dd22569-7af2-48bb-994b-228a14f17d78",
   "metadata": {},
   "source": [
    "In this notebook, Data Science Tools and Ecosystem are summarized"
   ]
  },
  {
   "cell_type": "markdown",
   "id": "485aa195-13a8-4f79-8094-71e1f6e9bb02",
   "metadata": {},
   "source": [
    "Some of the popular languages that Data Scientists use are:\n",
    "\n",
    "1. Python\n",
    "2. R\n",
    "3. Julia"
   ]
  },
  {
   "cell_type": "markdown",
   "id": "372379e6-dc0a-4c33-9e66-5c4ca58e3b22",
   "metadata": {},
   "source": [
    "Some of the commonly used libraries used by Data Scientists include:\n",
    "\n",
    "1. Pandas\n",
    "2. Numpy\n",
    "3. Matplotlib"
   ]
  },
  {
   "cell_type": "markdown",
   "id": "56cff1fd-d544-449e-ad9b-f48c0c8bfbd6",
   "metadata": {},
   "source": [
    "Data Science Tools\n",
    "\n",
    "1. Hadoop\n",
    "2. Apache Spark\n",
    "3. Jupyter Notebook"
   ]
  },
  {
   "cell_type": "markdown",
   "id": "f245157f-efa1-44cc-8de5-cf93e10aa89c",
   "metadata": {},
   "source": [
    "### Below are a few examples of evaluating arithmetic expressions in Python"
   ]
  },
  {
   "cell_type": "code",
   "execution_count": 5,
   "id": "1f3dffe5-3d15-463e-a3e3-2bd5defbbe0f",
   "metadata": {},
   "outputs": [
    {
     "data": {
      "text/plain": [
       "17"
      ]
     },
     "execution_count": 5,
     "metadata": {},
     "output_type": "execute_result"
    }
   ],
   "source": [
    "#This a simple arithmetic expression to mutiply then add integers\n",
    "\n",
    "(3*4)+5"
   ]
  },
  {
   "cell_type": "code",
   "execution_count": 6,
   "id": "001b9036-d68e-409a-8d56-2ccf7a8adfcf",
   "metadata": {},
   "outputs": [
    {
     "data": {
      "text/plain": [
       "3.3333333333333335"
      ]
     },
     "execution_count": 6,
     "metadata": {},
     "output_type": "execute_result"
    }
   ],
   "source": [
    "#This will convert 200 minutes to hours by diving by 60\n",
    "\n",
    "200/60"
   ]
  },
  {
   "cell_type": "markdown",
   "id": "e34da3d1-c3f3-4c8b-8358-4b4d97b86d11",
   "metadata": {},
   "source": [
    "# Objectives: \n",
    "\n",
    "- List popular languages for Data Science\n",
    "- Some of the commonly used libraries used by Data Scientists\n",
    "- Data Science Tools\n",
    "- Evaluating arithmetic expressions in Python"
   ]
  },
  {
   "cell_type": "markdown",
   "id": "7843bbba-3101-4e2a-84a9-788357a38a7f",
   "metadata": {},
   "source": [
    "# Author\n",
    "Kartik"
   ]
  },
  {
   "cell_type": "code",
   "execution_count": null,
   "id": "7557501e-220d-4d32-bc65-8896c2f9640c",
   "metadata": {},
   "outputs": [],
   "source": []
  }
 ],
 "metadata": {
  "kernelspec": {
   "display_name": "Python 3 (ipykernel)",
   "language": "python",
   "name": "python3"
  },
  "language_info": {
   "codemirror_mode": {
    "name": "ipython",
    "version": 3
   },
   "file_extension": ".py",
   "mimetype": "text/x-python",
   "name": "python",
   "nbconvert_exporter": "python",
   "pygments_lexer": "ipython3",
   "version": "3.13.5"
  }
 },
 "nbformat": 4,
 "nbformat_minor": 5
}
